{
 "cells": [
  {
   "cell_type": "code",
   "execution_count": 55,
   "metadata": {},
   "outputs": [],
   "source": [
    "import pandas as pd \n",
    "\n",
    "from ogb.utils.features import (\n",
    "    allowable_features, atom_to_feature_vector, bond_feature_vector_to_dict,\n",
    "    bond_to_feature_vector, atom_feature_vector_to_dict\n",
    ")\n",
    "import torch\n",
    "import rdkit\n",
    "from rdkit import Chem\n",
    "import numpy as np\n",
    "import os\n",
    "\n",
    "import re\n",
    "import json\n",
    "from rdkit import Chem\n",
    "from rdkit.Chem import AllChem\n",
    "from rdkit.Chem import Draw"
   ]
  },
  {
   "cell_type": "code",
   "execution_count": 66,
   "metadata": {},
   "outputs": [],
   "source": [
    "\n",
    "def smiles2graph(smiles_string, with_amap=False):\n",
    "    \"\"\"\n",
    "    Converts SMILES string to graph Data object\n",
    "    :input: SMILES string (str)\n",
    "    :return: graph object\n",
    "    \"\"\"\n",
    "\n",
    "    mol = Chem.MolFromSmiles(smiles_string)\n",
    "    if with_amap:\n",
    "        if len(mol.GetAtoms()) > 0:\n",
    "            max_amap = max([atom.GetAtomMapNum() for atom in mol.GetAtoms()])\n",
    "            for atom in mol.GetAtoms():\n",
    "                if atom.GetAtomMapNum() == 0:\n",
    "                    atom.SetAtomMapNum(max_amap + 1)\n",
    "                    max_amap = max_amap + 1\n",
    "\n",
    "            amap_idx = {\n",
    "                atom.GetAtomMapNum(): atom.GetIdx()\n",
    "                for atom in mol.GetAtoms()\n",
    "            }\n",
    "        else:\n",
    "            amap_idx = dict()\n",
    "\n",
    "    # atoms\n",
    "    atom_features_list = []\n",
    "    for atom in mol.GetAtoms():\n",
    "        if len(atom_to_feature_vector(atom))!=9:\n",
    "            print(len(atom_to_feature_vector(atom)), smiles_string)\n",
    "        atom_features_list.append(atom_to_feature_vector(atom))\n",
    "\n",
    "    num_atom_features = 9\n",
    "    if len(atom_features_list) > 0:\n",
    "        x = np.array(atom_features_list, dtype=np.int64)\n",
    "    else:\n",
    "        x = np.empty((0, num_atom_features), dtype=np.int64)\n",
    "\n",
    "    # bonds\n",
    "    num_bond_features = 3  # bond type, bond stereo, is_conjugated\n",
    "    if len(mol.GetBonds()) > 0:  # mol has bonds\n",
    "        edges_list = []\n",
    "        edge_features_list = []\n",
    "        for bond in mol.GetBonds():\n",
    "            i = bond.GetBeginAtomIdx()\n",
    "            j = bond.GetEndAtomIdx()\n",
    "\n",
    "            edge_feature = bond_to_feature_vector(bond)\n",
    "\n",
    "            # add edges in both directions\n",
    "            edges_list.append((i, j))\n",
    "            edge_features_list.append(edge_feature)\n",
    "            edges_list.append((j, i))\n",
    "            edge_features_list.append(edge_feature)\n",
    "\n",
    "        # data.edge_index: Graph connectivity in COO format with shape [2, num_edges]\n",
    "        edge_index = np.array(edges_list, dtype=np.int64).T\n",
    "\n",
    "        # data.edge_attr: Edge feature matrix with shape [num_edges, num_edge_features]\n",
    "        edge_attr = np.array(edge_features_list, dtype=np.int64)\n",
    "\n",
    "    else:   # mol has no bonds\n",
    "        edge_index = np.empty((2, 0), dtype=np.int64)\n",
    "        edge_attr = np.empty((0, num_bond_features), dtype=np.int64)\n",
    "\n",
    "    graph = dict()\n",
    "    graph['edge_index'] = edge_index\n",
    "    graph['edge_feat'] = edge_attr\n",
    "    graph['node_feat'] = x\n",
    "    graph['num_nodes'] = len(x)\n",
    "\n",
    "    if with_amap:\n",
    "        return graph, amap_idx\n",
    "    else:\n",
    "        return graph\n",
    "\n",
    "\n",
    "\n",
    "def clear_map_number(smi):\n",
    "    \"\"\"Clear the atom mapping number of a SMILES sequence\"\"\"\n",
    "    mol = Chem.MolFromSmiles(smi)\n",
    "    for atom in mol.GetAtoms():\n",
    "        if atom.HasProp('molAtomMapNumber'):\n",
    "            atom.ClearProp('molAtomMapNumber')\n",
    "    return canonical_smiles(Chem.MolToSmiles(mol))\n",
    "\n",
    "\n",
    "def canonical_smiles(smi):\n",
    "    \"\"\"Canonicalize a SMILES without atom mapping\"\"\"\n",
    "    mol = Chem.MolFromSmiles(smi)\n",
    "    if mol is None:\n",
    "        return smi\n",
    "    else:\n",
    "        canonical_smi = Chem.MolToSmiles(mol)\n",
    "        # print('>>', canonical_smi)\n",
    "        if '.' in canonical_smi:\n",
    "            canonical_smi_list = canonical_smi.split('.')\n",
    "            canonical_smi_list = sorted(\n",
    "                canonical_smi_list, key=lambda x: (len(x), x)\n",
    "            )\n",
    "            canonical_smi = '.'.join(canonical_smi_list)\n",
    "        return canonical_smi\n",
    "\n",
    "\n",
    "def cano_with_am(smi):\n",
    "    mol = Chem.MolFromSmiles(smi)\n",
    "    tmol = deepcopy(mol)\n",
    "    for atom in mol.GetAtoms():\n",
    "        if atom.HasProp('molAtomMapNumber'):\n",
    "            atom.ClearProp('molAtomMapNumber')\n",
    "\n",
    "    ranks = list(Chem.CanonicalRankAtoms(mol))\n",
    "    root_atom = int(np.argmin(ranks))\n",
    "    return Chem.MolToSmiles(tmol, rootedAtAtom=root_atom, canonical=True)\n",
    "\n",
    "\n",
    "def remove_am_wo_cano(smi):\n",
    "    mol = Chem.MolFromSmiles(smi)\n",
    "    for atom in mol.GetAtoms():\n",
    "        if atom.HasProp('molAtomMapNumber'):\n",
    "            atom.ClearProp('molAtomMapNumber')\n",
    "\n",
    "    return Chem.MolToSmiles(mol, canonical=False)\n",
    "\n",
    "\n",
    "def find_all_amap(smi):\n",
    "    return list(map(int, re.findall(r\"(?<=:)\\d+\", smi)))\n"
   ]
  },
  {
   "cell_type": "code",
   "execution_count": 43,
   "metadata": {},
   "outputs": [],
   "source": [
    "df=pd.read_csv(\"./raw_test.csv\")\n",
    "\n",
    "\n",
    "prod_list,reac_list=[],[]\n",
    "for rrp in df['reactants>reagents>production']:\n",
    "    reac,prod = rrp.strip().split('>>')\n",
    "    reac_list.append(reac)\n",
    "    prod_list.append(prod)"
   ]
  },
  {
   "cell_type": "code",
   "execution_count": 63,
   "metadata": {},
   "outputs": [],
   "source": [
    "atom_features_list=[]\n",
    "for atom in mol.GetAtoms():\n",
    "    if len(atom_to_feature_vector(atom))!=9:\n",
    "        print(len(atom_to_feature_vector(atom)))\n",
    "    atom_features_list.append(atom_to_feature_vector(atom))"
   ]
  },
  {
   "cell_type": "code",
   "execution_count": 67,
   "metadata": {},
   "outputs": [],
   "source": [
    "g_list=[]\n",
    "for p in prod_list:\n",
    "    g_list.append(smiles2graph(p))"
   ]
  },
  {
   "cell_type": "code",
   "execution_count": 70,
   "metadata": {},
   "outputs": [
    {
     "data": {
      "text/plain": [
       "dict_keys(['edge_index', 'edge_feat', 'node_feat', 'num_nodes'])"
      ]
     },
     "execution_count": 70,
     "metadata": {},
     "output_type": "execute_result"
    }
   ],
   "source": [
    "g_list[0].keys()"
   ]
  },
  {
   "cell_type": "code",
   "execution_count": 53,
   "metadata": {},
   "outputs": [],
   "source": [
    "def is_shuffled(A, B):\n",
    "    visited=set()\n",
    "    for row_A in A:\n",
    "        found = False\n",
    "        for j,row_B in enumerate(B):\n",
    "            if row_A == row_B and j not in visited:\n",
    "                found = True\n",
    "                print(j)\n",
    "                visited.add(j)\n",
    "                break\n",
    "        if not found:\n",
    "            return False\n",
    "    return True,visited"
   ]
  },
  {
   "cell_type": "code",
   "execution_count": 50,
   "metadata": {},
   "outputs": [
    {
     "data": {
      "text/plain": [
       "27"
      ]
     },
     "execution_count": 50,
     "metadata": {},
     "output_type": "execute_result"
    }
   ],
   "source": [
    "len(atom_features_list)"
   ]
  },
  {
   "cell_type": "code",
   "execution_count": 51,
   "metadata": {},
   "outputs": [
    {
     "data": {
      "text/plain": [
       "[[5, 0, 4, 5, 3, 0, 2, 0, 0],\n",
       " [5, 0, 3, 5, 0, 0, 1, 0, 0],\n",
       " [7, 0, 1, 5, 0, 0, 1, 0, 0],\n",
       " [5, 0, 3, 5, 0, 0, 1, 1, 1],\n",
       " [5, 0, 3, 5, 1, 0, 1, 1, 1],\n",
       " [5, 0, 3, 5, 1, 0, 1, 1, 1],\n",
       " [5, 0, 3, 5, 0, 0, 1, 1, 1],\n",
       " [6, 0, 3, 5, 1, 0, 1, 1, 1],\n",
       " [5, 0, 3, 5, 1, 0, 1, 1, 1],\n",
       " [5, 0, 3, 5, 1, 0, 1, 1, 1],\n",
       " [5, 0, 3, 5, 0, 0, 1, 1, 1],\n",
       " [5, 0, 3, 5, 1, 0, 1, 1, 1],\n",
       " [5, 0, 4, 5, 3, 0, 2, 0, 0],\n",
       " [5, 0, 4, 5, 0, 0, 2, 0, 0],\n",
       " [5, 0, 4, 5, 3, 0, 2, 0, 0],\n",
       " [5, 0, 4, 5, 3, 0, 2, 0, 0],\n",
       " [7, 0, 2, 5, 0, 0, 1, 0, 0],\n",
       " [5, 0, 3, 5, 0, 0, 1, 0, 0],\n",
       " [7, 0, 1, 5, 0, 0, 1, 0, 0],\n",
       " [7, 0, 2, 5, 0, 0, 1, 0, 0],\n",
       " [5, 0, 3, 5, 0, 0, 1, 0, 0],\n",
       " [7, 0, 1, 5, 0, 0, 1, 0, 0],\n",
       " [7, 0, 2, 5, 0, 0, 1, 0, 0],\n",
       " [5, 0, 4, 5, 0, 0, 2, 0, 0],\n",
       " [5, 0, 4, 5, 3, 0, 2, 0, 0],\n",
       " [5, 0, 4, 5, 3, 0, 2, 0, 0],\n",
       " [5, 0, 4, 5, 3, 0, 2, 0, 0]]"
      ]
     },
     "execution_count": 51,
     "metadata": {},
     "output_type": "execute_result"
    }
   ],
   "source": [
    "atom_features_list"
   ]
  },
  {
   "cell_type": "code",
   "execution_count": 36,
   "metadata": {},
   "outputs": [
    {
     "data": {
      "text/plain": [
       "'CC(=O)c1ccc2[nH]ccc2c1.CC(C)(C)OC(=O)OC(=O)OC(C)(C)C'"
      ]
     },
     "execution_count": 36,
     "metadata": {},
     "output_type": "execute_result"
    }
   ],
   "source": [
    "mol = Chem.MolFromSmiles(r)\n",
    "for atom in mol.GetAtoms():\n",
    "    if atom.HasProp('molAtomMapNumber'):\n",
    "        atom.ClearProp('molAtomMapNumber')\n",
    "Chem.MolToSmiles(mol)"
   ]
  },
  {
   "cell_type": "code",
   "execution_count": 37,
   "metadata": {},
   "outputs": [
    {
     "data": {
      "text/plain": [
       "'CC(=O)c1ccc2[nH]ccc2c1.CC(C)(C)OC(=O)OC(=O)OC(C)(C)C'"
      ]
     },
     "execution_count": 37,
     "metadata": {},
     "output_type": "execute_result"
    }
   ],
   "source": [
    "\n",
    "\n",
    "canonical_smi = Chem.MolToSmiles(mol)\n",
    "# print('>>', canonical_smi)\n",
    "if '.' in canonical_smi:\n",
    "    canonical_smi_list = canonical_smi.split('.')\n",
    "    canonical_smi_list = sorted(\n",
    "        canonical_smi_list, key=lambda x: (len(x), x)\n",
    "    )\n",
    "    canonical_smi = '.'.join(canonical_smi_list)\n",
    "canonical_smi"
   ]
  },
  {
   "cell_type": "code",
   "execution_count": 24,
   "metadata": {},
   "outputs": [
    {
     "name": "stdout",
     "output_type": "stream",
     "text": [
      "<rdkit.Chem.rdchem.Mol object at 0x00000234263A6190>\n",
      "True\n",
      "True\n",
      "True\n",
      "True\n",
      "True\n",
      "True\n",
      "True\n",
      "True\n",
      "True\n",
      "True\n",
      "True\n",
      "True\n",
      "True\n",
      "True\n",
      "True\n",
      "True\n",
      "True\n",
      "True\n",
      "True\n"
     ]
    }
   ],
   "source": [
    "mol = Chem.MolFromSmiles(p)\n",
    "print(mol)\n",
    "for atom in mol.GetAtoms():\n",
    "    if atom.HasProp('molAtomMapNumber'):\n",
    "        print('True')\n",
    "        atom.ClearProp('molAtomMapNumber')\n",
    "                      "
   ]
  },
  {
   "cell_type": "code",
   "execution_count": 26,
   "metadata": {},
   "outputs": [
    {
     "data": {
      "text/plain": [
       "'CC(=O)c1ccc2c(ccn2C(=O)OC(C)(C)C)c1'"
      ]
     },
     "execution_count": 26,
     "metadata": {},
     "output_type": "execute_result"
    }
   ],
   "source": [
    "Chem.MolToSmiles(mol)"
   ]
  },
  {
   "cell_type": "code",
   "execution_count": 27,
   "metadata": {},
   "outputs": [
    {
     "data": {
      "text/plain": [
       "'[CH3:1][C:2]([CH3:3])([CH3:4])[O:5][C:6](=[O:7])[n:15]1[c:14]2[cH:13][cH:12][c:11]([C:9]([CH3:8])=[O:10])[cH:19][c:18]2[cH:17][cH:16]1'"
      ]
     },
     "execution_count": 27,
     "metadata": {},
     "output_type": "execute_result"
    }
   ],
   "source": [
    "p"
   ]
  },
  {
   "cell_type": "code",
   "execution_count": 30,
   "metadata": {},
   "outputs": [
    {
     "data": {
      "text/plain": [
       "{'edge_index': array([[ 0,  1,  1,  2,  1,  3,  1,  4,  4,  5,  5,  6,  5,  7,  7,  8,\n",
       "          8,  9,  9, 10, 10, 11, 11, 12, 12, 13, 12, 14, 11, 15, 15, 16,\n",
       "         16, 17, 17, 18, 18,  7, 16,  8],\n",
       "        [ 1,  0,  2,  1,  3,  1,  4,  1,  5,  4,  6,  5,  7,  5,  8,  7,\n",
       "          9,  8, 10,  9, 11, 10, 12, 11, 13, 12, 14, 12, 15, 11, 16, 15,\n",
       "         17, 16, 18, 17,  7, 18,  8, 16]], dtype=int64),\n",
       " 'edge_feat': array([[0, 0, 0],\n",
       "        [0, 0, 0],\n",
       "        [0, 0, 0],\n",
       "        [0, 0, 0],\n",
       "        [0, 0, 0],\n",
       "        [0, 0, 0],\n",
       "        [0, 0, 0],\n",
       "        [0, 0, 0],\n",
       "        [0, 0, 1],\n",
       "        [0, 0, 1],\n",
       "        [1, 0, 1],\n",
       "        [1, 0, 1],\n",
       "        [0, 0, 1],\n",
       "        [0, 0, 1],\n",
       "        [3, 0, 1],\n",
       "        [3, 0, 1],\n",
       "        [3, 0, 1],\n",
       "        [3, 0, 1],\n",
       "        [3, 0, 1],\n",
       "        [3, 0, 1],\n",
       "        [3, 0, 1],\n",
       "        [3, 0, 1],\n",
       "        [0, 0, 1],\n",
       "        [0, 0, 1],\n",
       "        [0, 0, 0],\n",
       "        [0, 0, 0],\n",
       "        [1, 0, 1],\n",
       "        [1, 0, 1],\n",
       "        [3, 0, 1],\n",
       "        [3, 0, 1],\n",
       "        [3, 0, 1],\n",
       "        [3, 0, 1],\n",
       "        [3, 0, 1],\n",
       "        [3, 0, 1],\n",
       "        [3, 0, 1],\n",
       "        [3, 0, 1],\n",
       "        [3, 0, 1],\n",
       "        [3, 0, 1],\n",
       "        [3, 0, 1],\n",
       "        [3, 0, 1]], dtype=int64),\n",
       " 'node_feat': array([[5, 0, 4, 5, 3, 0, 2, 0, 0],\n",
       "        [5, 0, 4, 5, 0, 0, 2, 0, 0],\n",
       "        [5, 0, 4, 5, 3, 0, 2, 0, 0],\n",
       "        [5, 0, 4, 5, 3, 0, 2, 0, 0],\n",
       "        [7, 0, 2, 5, 0, 0, 1, 0, 0],\n",
       "        [5, 0, 3, 5, 0, 0, 1, 0, 0],\n",
       "        [7, 0, 1, 5, 0, 0, 1, 0, 0],\n",
       "        [6, 0, 3, 5, 0, 0, 1, 1, 1],\n",
       "        [5, 0, 3, 5, 0, 0, 1, 1, 1],\n",
       "        [5, 0, 3, 5, 1, 0, 1, 1, 1],\n",
       "        [5, 0, 3, 5, 1, 0, 1, 1, 1],\n",
       "        [5, 0, 3, 5, 0, 0, 1, 1, 1],\n",
       "        [5, 0, 3, 5, 0, 0, 1, 0, 0],\n",
       "        [5, 0, 4, 5, 3, 0, 2, 0, 0],\n",
       "        [7, 0, 1, 5, 0, 0, 1, 0, 0],\n",
       "        [5, 0, 3, 5, 1, 0, 1, 1, 1],\n",
       "        [5, 0, 3, 5, 0, 0, 1, 1, 1],\n",
       "        [5, 0, 3, 5, 1, 0, 1, 1, 1],\n",
       "        [5, 0, 3, 5, 1, 0, 1, 1, 1]], dtype=int64),\n",
       " 'num_nodes': 19}"
      ]
     },
     "execution_count": 30,
     "metadata": {},
     "output_type": "execute_result"
    }
   ],
   "source": [
    "smiles2graph(prod_list[0])"
   ]
  },
  {
   "cell_type": "code",
   "execution_count": 17,
   "metadata": {},
   "outputs": [
    {
     "data": {
      "text/plain": [
       "dict_keys(['edge_index', 'edge_feat', 'node_feat', 'num_nodes'])"
      ]
     },
     "execution_count": 17,
     "metadata": {},
     "output_type": "execute_result"
    }
   ],
   "source": [
    "g.keys()"
   ]
  },
  {
   "cell_type": "code",
   "execution_count": 29,
   "metadata": {},
   "outputs": [
    {
     "data": {
      "text/plain": [
       "array([[5, 0, 4, 5, 3, 0, 2, 0, 0],\n",
       "       [5, 0, 3, 5, 0, 0, 1, 0, 0],\n",
       "       [7, 0, 1, 5, 0, 0, 1, 0, 0],\n",
       "       [5, 0, 3, 5, 0, 0, 1, 1, 1],\n",
       "       [5, 0, 3, 5, 1, 0, 1, 1, 1],\n",
       "       [5, 0, 3, 5, 1, 0, 1, 1, 1],\n",
       "       [5, 0, 3, 5, 0, 0, 1, 1, 1],\n",
       "       [5, 0, 3, 5, 0, 0, 1, 1, 1],\n",
       "       [5, 0, 3, 5, 1, 0, 1, 1, 1],\n",
       "       [5, 0, 3, 5, 1, 0, 1, 1, 1],\n",
       "       [6, 0, 3, 5, 0, 0, 1, 1, 1],\n",
       "       [5, 0, 3, 5, 0, 0, 1, 0, 0],\n",
       "       [7, 0, 1, 5, 0, 0, 1, 0, 0],\n",
       "       [7, 0, 2, 5, 0, 0, 1, 0, 0],\n",
       "       [5, 0, 4, 5, 0, 0, 2, 0, 0],\n",
       "       [5, 0, 4, 5, 3, 0, 2, 0, 0],\n",
       "       [5, 0, 4, 5, 3, 0, 2, 0, 0],\n",
       "       [5, 0, 4, 5, 3, 0, 2, 0, 0],\n",
       "       [5, 0, 3, 5, 1, 0, 1, 1, 1]], dtype=int64)"
      ]
     },
     "execution_count": 29,
     "metadata": {},
     "output_type": "execute_result"
    }
   ],
   "source": [
    "g['node_feat']"
   ]
  },
  {
   "cell_type": "code",
   "execution_count": 18,
   "metadata": {},
   "outputs": [
    {
     "data": {
      "text/plain": [
       "array([[ 0,  1,  1,  2,  1,  3,  3,  4,  4,  5,  5,  6,  6,  7,  7,  8,\n",
       "         8,  9,  9, 10, 10, 11, 11, 12, 11, 13, 13, 14, 14, 15, 14, 16,\n",
       "        14, 17,  7, 18, 18,  3, 10,  6],\n",
       "       [ 1,  0,  2,  1,  3,  1,  4,  3,  5,  4,  6,  5,  7,  6,  8,  7,\n",
       "         9,  8, 10,  9, 11, 10, 12, 11, 13, 11, 14, 13, 15, 14, 16, 14,\n",
       "        17, 14, 18,  7,  3, 18,  6, 10]], dtype=int64)"
      ]
     },
     "execution_count": 18,
     "metadata": {},
     "output_type": "execute_result"
    }
   ],
   "source": [
    "g['edge_index']"
   ]
  },
  {
   "cell_type": "code",
   "execution_count": 10,
   "metadata": {},
   "outputs": [
    {
     "data": {
      "text/plain": [
       "{'edge_index': array([[ 0,  1,  1,  2,  1,  3,  1,  4,  4,  5,  5,  6,  5,  7,  7,  8,\n",
       "          8,  9,  9, 10, 10, 11, 11, 12, 12, 13, 12, 14, 11, 15, 15, 16,\n",
       "         16, 17, 17, 18, 18,  7, 16,  8],\n",
       "        [ 1,  0,  2,  1,  3,  1,  4,  1,  5,  4,  6,  5,  7,  5,  8,  7,\n",
       "          9,  8, 10,  9, 11, 10, 12, 11, 13, 12, 14, 12, 15, 11, 16, 15,\n",
       "         17, 16, 18, 17,  7, 18,  8, 16]], dtype=int64),\n",
       " 'edge_feat': array([[0, 0, 0],\n",
       "        [0, 0, 0],\n",
       "        [0, 0, 0],\n",
       "        [0, 0, 0],\n",
       "        [0, 0, 0],\n",
       "        [0, 0, 0],\n",
       "        [0, 0, 0],\n",
       "        [0, 0, 0],\n",
       "        [0, 0, 1],\n",
       "        [0, 0, 1],\n",
       "        [1, 0, 1],\n",
       "        [1, 0, 1],\n",
       "        [0, 0, 1],\n",
       "        [0, 0, 1],\n",
       "        [3, 0, 1],\n",
       "        [3, 0, 1],\n",
       "        [3, 0, 1],\n",
       "        [3, 0, 1],\n",
       "        [3, 0, 1],\n",
       "        [3, 0, 1],\n",
       "        [3, 0, 1],\n",
       "        [3, 0, 1],\n",
       "        [0, 0, 1],\n",
       "        [0, 0, 1],\n",
       "        [0, 0, 0],\n",
       "        [0, 0, 0],\n",
       "        [1, 0, 1],\n",
       "        [1, 0, 1],\n",
       "        [3, 0, 1],\n",
       "        [3, 0, 1],\n",
       "        [3, 0, 1],\n",
       "        [3, 0, 1],\n",
       "        [3, 0, 1],\n",
       "        [3, 0, 1],\n",
       "        [3, 0, 1],\n",
       "        [3, 0, 1],\n",
       "        [3, 0, 1],\n",
       "        [3, 0, 1],\n",
       "        [3, 0, 1],\n",
       "        [3, 0, 1]], dtype=int64),\n",
       " 'node_feat': array([[5, 0, 4, 5, 3, 0, 2, 0, 0],\n",
       "        [5, 0, 4, 5, 0, 0, 2, 0, 0],\n",
       "        [5, 0, 4, 5, 3, 0, 2, 0, 0],\n",
       "        [5, 0, 4, 5, 3, 0, 2, 0, 0],\n",
       "        [7, 0, 2, 5, 0, 0, 1, 0, 0],\n",
       "        [5, 0, 3, 5, 0, 0, 1, 0, 0],\n",
       "        [7, 0, 1, 5, 0, 0, 1, 0, 0],\n",
       "        [6, 0, 3, 5, 0, 0, 1, 1, 1],\n",
       "        [5, 0, 3, 5, 0, 0, 1, 1, 1],\n",
       "        [5, 0, 3, 5, 1, 0, 1, 1, 1],\n",
       "        [5, 0, 3, 5, 1, 0, 1, 1, 1],\n",
       "        [5, 0, 3, 5, 0, 0, 1, 1, 1],\n",
       "        [5, 0, 3, 5, 0, 0, 1, 0, 0],\n",
       "        [5, 0, 4, 5, 3, 0, 2, 0, 0],\n",
       "        [7, 0, 1, 5, 0, 0, 1, 0, 0],\n",
       "        [5, 0, 3, 5, 1, 0, 1, 1, 1],\n",
       "        [5, 0, 3, 5, 0, 0, 1, 1, 1],\n",
       "        [5, 0, 3, 5, 1, 0, 1, 1, 1],\n",
       "        [5, 0, 3, 5, 1, 0, 1, 1, 1]], dtype=int64),\n",
       " 'num_nodes': 19}"
      ]
     },
     "execution_count": 10,
     "metadata": {},
     "output_type": "execute_result"
    }
   ],
   "source": [
    "smiles2graph(prod_list[0])"
   ]
  }
 ],
 "metadata": {
  "kernelspec": {
   "display_name": "DL",
   "language": "python",
   "name": "python3"
  },
  "language_info": {
   "codemirror_mode": {
    "name": "ipython",
    "version": 3
   },
   "file_extension": ".py",
   "mimetype": "text/x-python",
   "name": "python",
   "nbconvert_exporter": "python",
   "pygments_lexer": "ipython3",
   "version": "undefined.undefined.undefined"
  }
 },
 "nbformat": 4,
 "nbformat_minor": 2
}
